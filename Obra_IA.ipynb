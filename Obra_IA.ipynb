{
  "nbformat": 4,
  "nbformat_minor": 0,
  "metadata": {
    "colab": {
      "provenance": [],
      "include_colab_link": true
    },
    "kernelspec": {
      "name": "python3",
      "display_name": "Python 3"
    },
    "language_info": {
      "name": "python"
    }
  },
  "cells": [
    {
      "cell_type": "markdown",
      "metadata": {
        "id": "view-in-github",
        "colab_type": "text"
      },
      "source": [
        "<a href=\"https://colab.research.google.com/github/Lua-shift/Obra.IA_Alura/blob/main/Obra_IA.ipynb\" target=\"_parent\"><img src=\"https://colab.research.google.com/assets/colab-badge.svg\" alt=\"Open In Colab\"/></a>"
      ]
    },
    {
      "cell_type": "code",
      "source": [
        "%pip -q install google-genai"
      ],
      "metadata": {
        "id": "UCCbECexLk_h"
      },
      "execution_count": 1,
      "outputs": []
    },
    {
      "cell_type": "code",
      "source": [
        "# Configura a API Key do Google Gemini\n",
        "\n",
        "import os\n",
        "from google.colab import userdata\n",
        "\n",
        "os.environ[\"GOOGLE_API_KEY\"] = userdata.get('GOOGLE_API_KEY')"
      ],
      "metadata": {
        "id": "NfCqHo1tLk8P"
      },
      "execution_count": 2,
      "outputs": []
    },
    {
      "cell_type": "code",
      "source": [
        "# Configura o cliente da SDK do Gemini\n",
        "\n",
        "from google import genai\n",
        "\n",
        "client = genai.Client()\n",
        "\n",
        "MODEL_ID = \"gemini-2.0-flash\""
      ],
      "metadata": {
        "id": "bV4w0H5TLk5g"
      },
      "execution_count": 3,
      "outputs": []
    },
    {
      "cell_type": "code",
      "source": [
        "# Pergunta ao Gemini uma informação mais recente que seu conhecimento\n",
        "\n",
        "from IPython.display import HTML, Markdown\n",
        "\n",
        "# Perguntar pro modelo quando é a próxima imersão de IA ###############################################\n",
        "resposta = client.models.generate_content(\n",
        "    model=MODEL_ID,\n",
        "    contents='Quando é a próxima Imersão IA com Google Gemini da Alura?',\n",
        ")\n",
        "\n",
        "# Exibe a resposta na tela\n",
        "display(Markdown(f\"Resposta:\\n {resposta.text}\"))"
      ],
      "metadata": {
        "id": "HwVP7Xi34Zuw",
        "colab": {
          "base_uri": "https://localhost:8080/",
          "height": 163
        },
        "outputId": "a64ed9a8-b4e8-46ae-807e-ee0cb4f2ee85",
        "collapsed": true
      },
      "execution_count": 4,
      "outputs": [
        {
          "output_type": "display_data",
          "data": {
            "text/plain": [
              "<IPython.core.display.Markdown object>"
            ],
            "text/markdown": "Resposta:\n A Alura não tem uma data fixa para a Imersão IA com Google Gemini. A melhor forma de saber quando a próxima edição será lançada é:\n\n*   **Acompanhar as redes sociais da Alura:** Fique de olho nos perfis da Alura no Instagram, LinkedIn, Twitter e Facebook. Eles costumam anunciar novos cursos e imersões por lá.\n*   **Assinar a newsletter da Alura:** Cadastre seu e-mail no site da Alura para receber novidades e anúncios em primeira mão.\n*   **Verificar a página de cursos da Alura:** Acesse regularmente a página de cursos da Alura e use a busca para procurar por \"Gemini\" ou \"Inteligência Artificial\".\n\nAssim que a Alura divulgar a próxima edição, você ficará sabendo!"
          },
          "metadata": {}
        }
      ]
    },
    {
      "cell_type": "code",
      "source": [
        "# Pergunta ao Gemini uma informação utilizando a busca do Google como contexto\n",
        "\n",
        "response = client.models.generate_content(\n",
        "    model=MODEL_ID,\n",
        "    contents='Quando é a próxima Imersão IA com Google Gemini da Alura?',\n",
        "    config={'tools':[{'google_search': {}}]}\n",
        ")\n",
        "\n",
        "# Exibe a resposta na tela\n",
        "display(Markdown(f\"Resposta:\\n {response.text}\"))"
      ],
      "metadata": {
        "id": "yXaZd7iZ4ftw",
        "colab": {
          "base_uri": "https://localhost:8080/",
          "height": 104
        },
        "outputId": "ecd6fef1-a632-439e-d486-433855e30611",
        "collapsed": true
      },
      "execution_count": 5,
      "outputs": [
        {
          "output_type": "display_data",
          "data": {
            "text/plain": [
              "<IPython.core.display.Markdown object>"
            ],
            "text/markdown": "Resposta:\n A próxima Imersão IA com Google Gemini da Alura acontecerá entre os dias 12 e 16 de maio de 2025. As inscrições são gratuitas e podem ser feitas até o dia 11 de maio.\n\nA Imersão IA é um curso online com cinco aulas, onde você aprenderá a criar prompts, automatizar tarefas e desenvolver sistemas de agentes autônomos usando o Google Gemini. Ao final do curso, você receberá um certificado da Alura e do Google.\n"
          },
          "metadata": {}
        }
      ]
    },
    {
      "cell_type": "code",
      "source": [
        "# Exibe a busca\n",
        "print(f\"Busca realizada: {response.candidates[0].grounding_metadata.web_search_queries}\")\n",
        "# Exibe as URLs nas quais ele se baseou\n",
        "print(f\"Páginas utilizadas na resposta: {', '.join([site.web.title for site in response.candidates[0].grounding_metadata.grounding_chunks])}\")\n",
        "print()\n",
        "display(HTML(response.candidates[0].grounding_metadata.search_entry_point.rendered_content))"
      ],
      "metadata": {
        "id": "xHSNlTd84heJ",
        "colab": {
          "base_uri": "https://localhost:8080/",
          "height": 117
        },
        "outputId": "9b01f561-fcbf-4cec-f3bb-5d78dc85370a",
        "collapsed": true
      },
      "execution_count": 6,
      "outputs": [
        {
          "output_type": "stream",
          "name": "stdout",
          "text": [
            "Busca realizada: ['Alura Imersão IA com Google Gemini']\n",
            "Páginas utilizadas na resposta: alura.com.br, tecmundo.com.br\n",
            "\n"
          ]
        },
        {
          "output_type": "display_data",
          "data": {
            "text/plain": [
              "<IPython.core.display.HTML object>"
            ],
            "text/html": [
              "<style>\n",
              ".container {\n",
              "  align-items: center;\n",
              "  border-radius: 8px;\n",
              "  display: flex;\n",
              "  font-family: Google Sans, Roboto, sans-serif;\n",
              "  font-size: 14px;\n",
              "  line-height: 20px;\n",
              "  padding: 8px 12px;\n",
              "}\n",
              ".chip {\n",
              "  display: inline-block;\n",
              "  border: solid 1px;\n",
              "  border-radius: 16px;\n",
              "  min-width: 14px;\n",
              "  padding: 5px 16px;\n",
              "  text-align: center;\n",
              "  user-select: none;\n",
              "  margin: 0 8px;\n",
              "  -webkit-tap-highlight-color: transparent;\n",
              "}\n",
              ".carousel {\n",
              "  overflow: auto;\n",
              "  scrollbar-width: none;\n",
              "  white-space: nowrap;\n",
              "  margin-right: -12px;\n",
              "}\n",
              ".headline {\n",
              "  display: flex;\n",
              "  margin-right: 4px;\n",
              "}\n",
              ".gradient-container {\n",
              "  position: relative;\n",
              "}\n",
              ".gradient {\n",
              "  position: absolute;\n",
              "  transform: translate(3px, -9px);\n",
              "  height: 36px;\n",
              "  width: 9px;\n",
              "}\n",
              "@media (prefers-color-scheme: light) {\n",
              "  .container {\n",
              "    background-color: #fafafa;\n",
              "    box-shadow: 0 0 0 1px #0000000f;\n",
              "  }\n",
              "  .headline-label {\n",
              "    color: #1f1f1f;\n",
              "  }\n",
              "  .chip {\n",
              "    background-color: #ffffff;\n",
              "    border-color: #d2d2d2;\n",
              "    color: #5e5e5e;\n",
              "    text-decoration: none;\n",
              "  }\n",
              "  .chip:hover {\n",
              "    background-color: #f2f2f2;\n",
              "  }\n",
              "  .chip:focus {\n",
              "    background-color: #f2f2f2;\n",
              "  }\n",
              "  .chip:active {\n",
              "    background-color: #d8d8d8;\n",
              "    border-color: #b6b6b6;\n",
              "  }\n",
              "  .logo-dark {\n",
              "    display: none;\n",
              "  }\n",
              "  .gradient {\n",
              "    background: linear-gradient(90deg, #fafafa 15%, #fafafa00 100%);\n",
              "  }\n",
              "}\n",
              "@media (prefers-color-scheme: dark) {\n",
              "  .container {\n",
              "    background-color: #1f1f1f;\n",
              "    box-shadow: 0 0 0 1px #ffffff26;\n",
              "  }\n",
              "  .headline-label {\n",
              "    color: #fff;\n",
              "  }\n",
              "  .chip {\n",
              "    background-color: #2c2c2c;\n",
              "    border-color: #3c4043;\n",
              "    color: #fff;\n",
              "    text-decoration: none;\n",
              "  }\n",
              "  .chip:hover {\n",
              "    background-color: #353536;\n",
              "  }\n",
              "  .chip:focus {\n",
              "    background-color: #353536;\n",
              "  }\n",
              "  .chip:active {\n",
              "    background-color: #464849;\n",
              "    border-color: #53575b;\n",
              "  }\n",
              "  .logo-light {\n",
              "    display: none;\n",
              "  }\n",
              "  .gradient {\n",
              "    background: linear-gradient(90deg, #1f1f1f 15%, #1f1f1f00 100%);\n",
              "  }\n",
              "}\n",
              "</style>\n",
              "<div class=\"container\">\n",
              "  <div class=\"headline\">\n",
              "    <svg class=\"logo-light\" width=\"18\" height=\"18\" viewBox=\"9 9 35 35\" fill=\"none\" xmlns=\"http://www.w3.org/2000/svg\">\n",
              "      <path fill-rule=\"evenodd\" clip-rule=\"evenodd\" d=\"M42.8622 27.0064C42.8622 25.7839 42.7525 24.6084 42.5487 23.4799H26.3109V30.1568H35.5897C35.1821 32.3041 33.9596 34.1222 32.1258 35.3448V39.6864H37.7213C40.9814 36.677 42.8622 32.2571 42.8622 27.0064V27.0064Z\" fill=\"#4285F4\"/>\n",
              "      <path fill-rule=\"evenodd\" clip-rule=\"evenodd\" d=\"M26.3109 43.8555C30.9659 43.8555 34.8687 42.3195 37.7213 39.6863L32.1258 35.3447C30.5898 36.3792 28.6306 37.0061 26.3109 37.0061C21.8282 37.0061 18.0195 33.9811 16.6559 29.906H10.9194V34.3573C13.7563 39.9841 19.5712 43.8555 26.3109 43.8555V43.8555Z\" fill=\"#34A853\"/>\n",
              "      <path fill-rule=\"evenodd\" clip-rule=\"evenodd\" d=\"M16.6559 29.8904C16.3111 28.8559 16.1074 27.7588 16.1074 26.6146C16.1074 25.4704 16.3111 24.3733 16.6559 23.3388V18.8875H10.9194C9.74388 21.2072 9.06992 23.8247 9.06992 26.6146C9.06992 29.4045 9.74388 32.022 10.9194 34.3417L15.3864 30.8621L16.6559 29.8904V29.8904Z\" fill=\"#FBBC05\"/>\n",
              "      <path fill-rule=\"evenodd\" clip-rule=\"evenodd\" d=\"M26.3109 16.2386C28.85 16.2386 31.107 17.1164 32.9095 18.8091L37.8466 13.8719C34.853 11.082 30.9659 9.3736 26.3109 9.3736C19.5712 9.3736 13.7563 13.245 10.9194 18.8875L16.6559 23.3388C18.0195 19.2636 21.8282 16.2386 26.3109 16.2386V16.2386Z\" fill=\"#EA4335\"/>\n",
              "    </svg>\n",
              "    <svg class=\"logo-dark\" width=\"18\" height=\"18\" viewBox=\"0 0 48 48\" xmlns=\"http://www.w3.org/2000/svg\">\n",
              "      <circle cx=\"24\" cy=\"23\" fill=\"#FFF\" r=\"22\"/>\n",
              "      <path d=\"M33.76 34.26c2.75-2.56 4.49-6.37 4.49-11.26 0-.89-.08-1.84-.29-3H24.01v5.99h8.03c-.4 2.02-1.5 3.56-3.07 4.56v.75l3.91 2.97h.88z\" fill=\"#4285F4\"/>\n",
              "      <path d=\"M15.58 25.77A8.845 8.845 0 0 0 24 31.86c1.92 0 3.62-.46 4.97-1.31l4.79 3.71C31.14 36.7 27.65 38 24 38c-5.93 0-11.01-3.4-13.45-8.36l.17-1.01 4.06-2.85h.8z\" fill=\"#34A853\"/>\n",
              "      <path d=\"M15.59 20.21a8.864 8.864 0 0 0 0 5.58l-5.03 3.86c-.98-2-1.53-4.25-1.53-6.64 0-2.39.55-4.64 1.53-6.64l1-.22 3.81 2.98.22 1.08z\" fill=\"#FBBC05\"/>\n",
              "      <path d=\"M24 14.14c2.11 0 4.02.75 5.52 1.98l4.36-4.36C31.22 9.43 27.81 8 24 8c-5.93 0-11.01 3.4-13.45 8.36l5.03 3.85A8.86 8.86 0 0 1 24 14.14z\" fill=\"#EA4335\"/>\n",
              "    </svg>\n",
              "    <div class=\"gradient-container\"><div class=\"gradient\"></div></div>\n",
              "  </div>\n",
              "  <div class=\"carousel\">\n",
              "    <a class=\"chip\" href=\"https://vertexaisearch.cloud.google.com/grounding-api-redirect/AbF9wXHFMC8QoA7d9ZIwfD8V3THKIJZd5IYkGJQXUesPTtZDDIBkTjdYnqlxHS0QzCzdcmNzJ9N_EBYmZQcaRlyTFLX2SFvNQslRJmstRVDVVlAqldSBSokaIdb3vyvdOMjiBFs6E9JhS1z3VvcO6rGBcJItwHz-rgslSQjnY3zXhcg-2jNIQg1duFYBgXu6JSLOwNaZz8N72dd4RTmCCFZevqvSIr25XHfDKdxcwQ==\">Alura Imersão IA com Google Gemini</a>\n",
              "  </div>\n",
              "</div>\n"
            ]
          },
          "metadata": {}
        }
      ]
    },
    {
      "cell_type": "code",
      "source": [
        "# Instalar Framework ADK de agentes do Google ################################################\n",
        "!pip -q install google-adk"
      ],
      "metadata": {
        "id": "hvZ3UnPI4jhJ",
        "colab": {
          "base_uri": "https://localhost:8080/"
        },
        "outputId": "7e3509bf-eda5-40cb-9f0a-b922a34e20da"
      },
      "execution_count": 7,
      "outputs": [
        {
          "output_type": "stream",
          "name": "stdout",
          "text": [
            "\u001b[?25l   \u001b[90m━━━━━━━━━━━━━━━━━━━━━━━━━━━━━━━━━━━━━━━━\u001b[0m \u001b[32m0.0/1.2 MB\u001b[0m \u001b[31m?\u001b[0m eta \u001b[36m-:--:--\u001b[0m\r\u001b[2K   \u001b[91m━━━━━━━━━━━━━━━━\u001b[0m\u001b[90m╺\u001b[0m\u001b[90m━━━━━━━━━━━━━━━━━━━━━━━\u001b[0m \u001b[32m0.5/1.2 MB\u001b[0m \u001b[31m15.9 MB/s\u001b[0m eta \u001b[36m0:00:01\u001b[0m\r\u001b[2K   \u001b[91m━━━━━━━━━━━━━━━━━━━━━━━━━━━━━━━━━━━━━━━\u001b[0m\u001b[91m╸\u001b[0m \u001b[32m1.2/1.2 MB\u001b[0m \u001b[31m23.1 MB/s\u001b[0m eta \u001b[36m0:00:01\u001b[0m\r\u001b[2K   \u001b[90m━━━━━━━━━━━━━━━━━━━━━━━━━━━━━━━━━━━━━━━━\u001b[0m \u001b[32m1.2/1.2 MB\u001b[0m \u001b[31m16.5 MB/s\u001b[0m eta \u001b[36m0:00:00\u001b[0m\n",
            "\u001b[?25h\u001b[?25l   \u001b[90m━━━━━━━━━━━━━━━━━━━━━━━━━━━━━━━━━━━━━━━━\u001b[0m \u001b[32m0.0/232.1 kB\u001b[0m \u001b[31m?\u001b[0m eta \u001b[36m-:--:--\u001b[0m\r\u001b[2K   \u001b[90m━━━━━━━━━━━━━━━━━━━━━━━━━━━━━━━━━━━━━━━━\u001b[0m \u001b[32m232.1/232.1 kB\u001b[0m \u001b[31m17.8 MB/s\u001b[0m eta \u001b[36m0:00:00\u001b[0m\n",
            "\u001b[?25h\u001b[?25l   \u001b[90m━━━━━━━━━━━━━━━━━━━━━━━━━━━━━━━━━━━━━━━━\u001b[0m \u001b[32m0.0/95.2 kB\u001b[0m \u001b[31m?\u001b[0m eta \u001b[36m-:--:--\u001b[0m\r\u001b[2K   \u001b[90m━━━━━━━━━━━━━━━━━━━━━━━━━━━━━━━━━━━━━━━━\u001b[0m \u001b[32m95.2/95.2 kB\u001b[0m \u001b[31m7.9 MB/s\u001b[0m eta \u001b[36m0:00:00\u001b[0m\n",
            "\u001b[2K   \u001b[90m━━━━━━━━━━━━━━━━━━━━━━━━━━━━━━━━━━━━━━━━\u001b[0m \u001b[32m217.1/217.1 kB\u001b[0m \u001b[31m17.2 MB/s\u001b[0m eta \u001b[36m0:00:00\u001b[0m\n",
            "\u001b[2K   \u001b[90m━━━━━━━━━━━━━━━━━━━━━━━━━━━━━━━━━━━━━━━━\u001b[0m \u001b[32m334.1/334.1 kB\u001b[0m \u001b[31m20.8 MB/s\u001b[0m eta \u001b[36m0:00:00\u001b[0m\n",
            "\u001b[2K   \u001b[90m━━━━━━━━━━━━━━━━━━━━━━━━━━━━━━━━━━━━━━━━\u001b[0m \u001b[32m125.1/125.1 kB\u001b[0m \u001b[31m11.0 MB/s\u001b[0m eta \u001b[36m0:00:00\u001b[0m\n",
            "\u001b[2K   \u001b[90m━━━━━━━━━━━━━━━━━━━━━━━━━━━━━━━━━━━━━━━━\u001b[0m \u001b[32m65.8/65.8 kB\u001b[0m \u001b[31m5.4 MB/s\u001b[0m eta \u001b[36m0:00:00\u001b[0m\n",
            "\u001b[2K   \u001b[90m━━━━━━━━━━━━━━━━━━━━━━━━━━━━━━━━━━━━━━━━\u001b[0m \u001b[32m119.0/119.0 kB\u001b[0m \u001b[31m10.3 MB/s\u001b[0m eta \u001b[36m0:00:00\u001b[0m\n",
            "\u001b[2K   \u001b[90m━━━━━━━━━━━━━━━━━━━━━━━━━━━━━━━━━━━━━━━━\u001b[0m \u001b[32m194.9/194.9 kB\u001b[0m \u001b[31m15.2 MB/s\u001b[0m eta \u001b[36m0:00:00\u001b[0m\n",
            "\u001b[2K   \u001b[90m━━━━━━━━━━━━━━━━━━━━━━━━━━━━━━━━━━━━━━━━\u001b[0m \u001b[32m62.5/62.5 kB\u001b[0m \u001b[31m4.9 MB/s\u001b[0m eta \u001b[36m0:00:00\u001b[0m\n",
            "\u001b[2K   \u001b[90m━━━━━━━━━━━━━━━━━━━━━━━━━━━━━━━━━━━━━━━━\u001b[0m \u001b[32m103.3/103.3 kB\u001b[0m \u001b[31m8.3 MB/s\u001b[0m eta \u001b[36m0:00:00\u001b[0m\n",
            "\u001b[2K   \u001b[90m━━━━━━━━━━━━━━━━━━━━━━━━━━━━━━━━━━━━━━━━\u001b[0m \u001b[32m44.4/44.4 kB\u001b[0m \u001b[31m3.4 MB/s\u001b[0m eta \u001b[36m0:00:00\u001b[0m\n",
            "\u001b[2K   \u001b[90m━━━━━━━━━━━━━━━━━━━━━━━━━━━━━━━━━━━━━━━━\u001b[0m \u001b[32m72.0/72.0 kB\u001b[0m \u001b[31m5.0 MB/s\u001b[0m eta \u001b[36m0:00:00\u001b[0m\n",
            "\u001b[?25h"
          ]
        }
      ]
    },
    {
      "cell_type": "code",
      "execution_count": 8,
      "metadata": {
        "id": "aePV2bdfDeoW"
      },
      "outputs": [],
      "source": [
        "from google.adk.agents import Agent\n",
        "from google.adk.runners import Runner\n",
        "from google.adk.sessions import InMemorySessionService\n",
        "from google.adk.tools import google_search\n",
        "from google.genai import types  # Para criar conteúdos (Content e Part)\n",
        "from datetime import date\n",
        "import textwrap # Para formatar melhor a saída de texto\n",
        "from IPython.display import display, Markdown # Para exibir texto formatado no Colab\n",
        "import requests # Para fazer requisições HTTP\n",
        "import warnings\n",
        "\n",
        "warnings.filterwarnings(\"ignore\")"
      ]
    },
    {
      "cell_type": "code",
      "source": [
        "# Função auxiliar que envia uma mensagem para um agente via Runner e retorna a resposta final\n",
        "def call_agent(agent: Agent, message_text: str) -> str:\n",
        "    # Cria um serviço de sessão em memória\n",
        "    session_service = InMemorySessionService()\n",
        "    # Cria uma nova sessão (você pode personalizar os IDs conforme necessário)\n",
        "    session = session_service.create_session(app_name=agent.name, user_id=\"user1\", session_id=\"session1\")\n",
        "    # Cria um Runner para o agente\n",
        "    runner = Runner(agent=agent, app_name=agent.name, session_service=session_service)\n",
        "    # Cria o conteúdo da mensagem de entrada\n",
        "    content = types.Content(role=\"user\", parts=[types.Part(text=message_text)])\n",
        "\n",
        "    final_response = \"\"\n",
        "    # Itera assincronamente pelos eventos retornados durante a execução do agente\n",
        "    for event in runner.run(user_id=\"user1\", session_id=\"session1\", new_message=content):\n",
        "        if event.is_final_response():\n",
        "          for part in event.content.parts:\n",
        "            if part.text is not None:\n",
        "              final_response += part.text\n",
        "              final_response += \"\\n\"\n",
        "    return final_response"
      ],
      "metadata": {
        "id": "_xP4lWhsS5ko"
      },
      "execution_count": 9,
      "outputs": []
    },
    {
      "cell_type": "code",
      "source": [
        "# Função auxiliar para exibir texto formatado em Markdown no Colab\n",
        "def to_markdown(text):\n",
        "  text = text.replace('•', '  *')\n",
        "  return Markdown(textwrap.indent(text, '> ', predicate=lambda _: True))"
      ],
      "metadata": {
        "id": "8dosiodaxfFR"
      },
      "execution_count": 10,
      "outputs": []
    },
    {
      "cell_type": "code",
      "source": [
        "##########################################\n",
        "# ----- Agente 1: Buscador de Obra ------ #\n",
        "##########################################\n",
        "def agente_buscador_obra(topico, localizacao=None):\n",
        "    buscador = Agent(\n",
        "        name=\"agente_buscador_obra\",\n",
        "        model=\"gemini-2.0-flash\",\n",
        "        description=\"Agente que busca informações relevantes para obras no Google.\",\n",
        "        tools=[google_search],\n",
        "        instruction=f\"\"\"\n",
        "        Você é um assistente de pesquisa para obras de construção civil.\n",
        "\n",
        "        Sua tarefa é buscar informações atualizadas e úteis no Google sobre o seguinte tópico: {topico}.\n",
        "\n",
        "        - Se o tópico for sobre preços, procure o valor médio praticado no Brasil ou na cidade informada (se houver).\n",
        "        - Se for sobre materiais, procure a descrição do item, onde é usado e quanto custa.\n",
        "        - Se for sobre mão de obra, procure a média de preço por hora ou por dia do profissional mencionado.\n",
        "\n",
        "        Dê prioridade a resultados de sites confiáveis como lojas de construção, sites de fabricantes e Google Shopping.\n",
        "\n",
        "        Mostre no máximo 5 resultados úteis, sem repetir.\n",
        "        Responda de forma simples, clara e objetiva. Inclua preços, nomes e fontes quando possível.\n",
        "\n",
        "        \"\"\"\n",
        "    )\n",
        "    entrada_do_agente_buscador = f\"Tópico: {topico}\"\n",
        "    if localizacao:\n",
        "        entrada_do_agente_buscador += f\"\\nLocalização do Cliente: {localizacao}\"\n",
        "    informacoes = call_agent(buscador, entrada_do_agente_buscador)\n",
        "    return informacoes"
      ],
      "metadata": {
        "id": "g-cWMD6DGkFK"
      },
      "execution_count": 11,
      "outputs": []
    },
    {
      "cell_type": "code",
      "source": [
        "topico_busca = \"preço do saco de cimento 50kg\"\n",
        "local_cliente = \"Salvador, Bahia\"\n",
        "resultado_busca = agente_buscador_obra(topico_busca, local_cliente)\n",
        "print(resultado_busca)\n",
        "\n",
        "topico_busca = \"onde comprar areia ensacada\"\n",
        "local_cliente = \"Rio de Janeiro, RJ\"\n",
        "resultado_busca = agente_buscador_obra(topico_busca, local_cliente)\n",
        "print(resultado_busca)\n",
        "\n",
        "# Sem localização específica\n",
        "topico_busca = \"melhores práticas para impermeabilização de lajes\"\n",
        "resultado_busca = agente_buscador_obra(topico_busca)\n",
        "print(resultado_busca)"
      ],
      "metadata": {
        "colab": {
          "base_uri": "https://localhost:8080/"
        },
        "collapsed": true,
        "id": "gmjPeZeRHt3J",
        "outputId": "c971a69e-5ceb-4110-cf4c-a99949e511cb"
      },
      "execution_count": 12,
      "outputs": [
        {
          "output_type": "stream",
          "name": "stdout",
          "text": [
            "Em Salvador, Bahia, o preço do saco de cimento de 50kg pode variar. Aqui estão alguns valores encontrados:\n",
            "\n",
            "*   **OLX:** Anúncios no OLX mostram preços a partir de R$ 32,00.\n",
            "*   **O Fazendão:** Cimento Poty CP-II 50KG (Votorantim) por R$44,00 à vista. Cimento CP-II F-32 Uso Geral 50KG (Zebu) por R$42,00 à vista.\n",
            "*   **Outlet Center Líder:** Cimento Montes Claros saco com 50KG por R$37,00.\n",
            "*   **Santa Lúcia Materiais de Construção:** Cimento Todas as Obras 50 kg Votoran por R$35,00.\n",
            "\n",
            "É importante verificar a disponibilidade e o frete, pois alguns anúncios são de outras cidades ou podem ter condições especiais.\n",
            "\n",
            "Os tipos de cimento mais comuns encontrados são o CP II, CP III e CP IV, cada um com indicações específicas para diferentes usos na construção.\n",
            "\n",
            "\n",
            "Para encontrar areia ensacada no Rio de Janeiro, RJ, aqui estão algumas opções e informações úteis:\n",
            "\n",
            "1.  **Construtores Center**: Oferece areia ensacada de 20kg a partir de R$7,99. Eles também vendem diversos outros materiais de construção e oferecem entrega no Rio de Janeiro.\n",
            "\n",
            "2.  **Mercado Livre**: Você pode encontrar diversas opções de areia ensacada com diferentes vendedores e preços. É importante verificar a reputação do vendedor e as condições de entrega.\n",
            "\n",
            "3.  **Tumelero**: Vende areia ensacada de 20kg da marca ensacada a R$8,50.\n",
            "\n",
            "4.  **Telhanorte**: Também oferece areia ensacada, com preços e opções que podem ser consultados diretamente no site ou loja física.\n",
            "\n",
            "5.  **Google Shopping**: Permite comparar preços de diferentes lojas e encontrar a melhor oferta de areia ensacada no Rio de Janeiro.\n",
            "\n",
            "É sempre recomendável verificar a disponibilidade, condições de entrega e preços atualizados diretamente com os fornecedores antes de realizar a compra.\n",
            "\n",
            "\n",
            "Para impermeabilizar lajes com as melhores práticas, considere as seguintes informações:\n",
            "\n",
            "**1. Importância da impermeabilização:**\n",
            "\n",
            "*   Protege a estrutura contra infiltrações, mofo e outros danos.\n",
            "*   Previne a degradação dos materiais de construção, diminuindo a resistência estrutural e desvalorização do imóvel.\n",
            "*   Contribui para o conforto térmico dos ambientes.\n",
            "\n",
            "**2. Tipos de impermeabilização:**\n",
            "\n",
            "*   **Impermeabilização Rígida:** Indicada para estruturas sem movimentação, como fundações e piscinas. Utiliza argamassa impermeabilizante e aditivos. Não recomendada para áreas suscetíveis a contrações e expansões, pois aumenta o risco de fissuras.\n",
            "*   **Impermeabilização Flexível:** Ideal para lajes, varandas e coberturas sujeitas a vibrações. Utiliza mantas asfálticas, membranas líquidas e polímeros elastoméricos.\n",
            "\n",
            "**3. Materiais comuns e preços:**\n",
            "\n",
            "*   **Manta asfáltica:** Sistema tradicional com asfalto modificado e polímeros.  É uma boa opção para impermeabilização de lajes pequenas.\n",
            "*   **Manta líquida:**  Facilita a aplicação e é feita à base de resina acrílica. Marcas populares incluem Manta Líquida Mantatec Laje, Manta Líquida Quartzolit Branca e Manta Líquida Vedalaje Viapol.\n",
            "*   O custo desse sistema (tecido VP50 + manta líquida) pode variar entre R$ 480,80 e R$ 9.150,55, dependendo da marca e da quantidade necessária.\n",
            "*   **Argamassas poliméricas:** Opção para impermeabilização, mas mais suscetíveis a rachaduras. Requerem aplicação de um contrapiso para maior proteção.\n",
            "\n",
            "**4. Preparação da superfície:**\n",
            "\n",
            "*   Limpe a superfície, removendo sujeira, óleo e materiais soltos.\n",
            "*   Lave com água pressurizada.\n",
            "*   Repare fissuras e trincas com argamassa.\n",
            "*   Nivele a superfície para evitar acúmulo de água.\n",
            "\n",
            "**5. Melhores práticas e cuidados:**\n",
            "\n",
            "*   Escolha o método de impermeabilização conforme o tipo de laje e as condições climáticas.\n",
            "*   Garanta que a superfície esteja limpa e livre de contaminantes antes de aplicar qualquer método de impermeabilização.\n",
            "*   Evite sobrecargas na laje após a impermeabilização.\n",
            "*   Faça revisões periódicas e manutenção da impermeabilização.\n",
            "\n",
            "**6. Custos:**\n",
            "\n",
            "*   O preço médio para impermeabilizar uma laje pode variar entre R$ 2.400 e R$ 7.300.\n",
            "*   O custo médio por m² é de cerca de 25€.\n",
            "\n",
            "**7. Riscos de não impermeabilizar:**\n",
            "\n",
            "*   Infiltrações que afetam vigas, pilares e acabamentos.\n",
            "*   Rachaduras devido à dilatação térmica.\n",
            "*   Oxidação da armadura interna, enfraquecendo a estrutura.\n",
            "*   Surgimento de mofo e bolor.\n",
            "\n",
            "**8. Onde aplicar:**\n",
            "\n",
            "*   Lajes de cobertura, terraços e áreas molhadas como banheiros e cozinhas.\n",
            "*   Superfícies expostas, como lajes, marquises, coberturas e paredes sujeitas à ação da chuva.\n",
            "\n",
            "**9. Marcas e produtos:**\n",
            "\n",
            "*   Mantas líquidas emborrachadas.\n",
            "*   Vedapren Manta Líquida.\n",
            "*   Revestimentos acrílicos.\n",
            "\n",
            "\n"
          ]
        }
      ]
    },
    {
      "cell_type": "code",
      "source": [
        "import json\n",
        "\n",
        "###################################################\n",
        "# ----- Agente 2: Planejador de Orçamentos ------ #\n",
        "###################################################\n",
        "\n",
        "def agente_planejador_orcamento(tipo_obra, area_m2, localizacao=None):\n",
        "    planejador = Agent(\n",
        "        name=\"agente_planejador_orcamento\",\n",
        "        model=\"gemini-2.0-flash\",\n",
        "        instruction=f\"\"\"\n",
        "        Você é um planejador de orçamentos para construção civil.\n",
        "\n",
        "        Sua tarefa é indicar os principais materiais e os profissionais necessários para o seguinte serviço:\n",
        "\n",
        "        Tipo de Obra: {tipo_obra}\n",
        "        Área: {area_m2} m²\n",
        "        Localização: {localizacao}\n",
        "\n",
        "        Retorne a resposta no seguinte formato JSON:\n",
        "\n",
        "        {{\n",
        "          \"materiais\": [\n",
        "            {{\"item\": \"nome do material\", \"consulta_preco\": \"busca no Google para saber o preço\"}},\n",
        "            ...\n",
        "          ],\n",
        "          \"mao_de_obra\": [\n",
        "            {{\"funcao\": \"nome do profissional\", \"consulta_preco\": \"busca no Google para saber a taxa horária\"}},\n",
        "            ...\n",
        "          ]\n",
        "        }}\n",
        "\n",
        "        Inclua na consulta de busca o nome da cidade (se houver). Use termos simples e diretos, como:\n",
        "        \"preço saco de cimento Belo Horizonte\", \"quanto custa hora de pedreiro em São Paulo\".\n",
        "        \"\"\",\n",
        "        description=\"Agente que planeja os dados necessários para o orçamento de obras e retorna em JSON.\",\n",
        "        tools=[]\n",
        "    )\n",
        "\n",
        "    entrada_do_agente_planejador = f\"Tipo de Obra: {tipo_obra}\\nÁrea: {area_m2} m²\\nLocalização: {localizacao}\"\n",
        "\n",
        "    # Executa o agente\n",
        "    plano_orcamento_str = call_agent(planejador, entrada_do_agente_planejador)\n",
        "\n",
        "    try:\n",
        "        # Limpa delimitadores de markdown (```json ... ```)\n",
        "        plano_orcamento_limpo = plano_orcamento_str.replace(\"```json\", \"\").replace(\"```\", \"\").strip()\n",
        "\n",
        "        # Carrega como JSON\n",
        "        plano_orcamento = json.loads(plano_orcamento_limpo)\n",
        "    except json.JSONDecodeError as e:\n",
        "        print(f\"Erro ao decodificar a resposta do Planejador para JSON: {e}\")\n",
        "        print(f\"Resposta bruta do Planejador:\\n{plano_orcamento_str}\")\n",
        "        return {}  # Retorna um dicionário vazio em caso de erro\n",
        "\n",
        "    return plano_orcamento"
      ],
      "metadata": {
        "id": "JmM6VfATQCpR"
      },
      "execution_count": 13,
      "outputs": []
    },
    {
      "cell_type": "code",
      "source": [
        "###################################################\n",
        "# -------- Agente 3: Redator de Orçamentos ------- #\n",
        "###################################################\n",
        "\n",
        "def agente_redator_orcamento(tipo_obra, area_m2, plano_orcamento, resultados_busca_preco={}, resultados_busca_mao_de_obra={}):\n",
        "    redator = Agent(\n",
        "        name=\"agente_redator_orcamento\",\n",
        "        model=\"gemini-2.0-flash\",\n",
        "        instruction=\"\"\"\n",
        "\n",
        "Você é um especialista em orçamentos de obras de construção civil.\n",
        "\n",
        "Use os seguintes critérios para fazer os cálculos:\n",
        "\n",
        "1. **Para blocos/tijolos**:\n",
        "   - Considere 20 unidades por metro quadrado de parede.\n",
        "   - Para calcular a área da parede, use: comprimento x altura (em metros).\n",
        "   - Exemplo: Uma parede de 5m (comprimento) x 2,6m (altura) = 13 m² → 13 x 20 = 260 blocos.\n",
        "\n",
        "2. **Para volume de concreto ou outros materiais em volume**:\n",
        "   - Use a fórmula: comprimento x altura x largura ÷ 1000 (para obter o volume em m³).\n",
        "\n",
        "3. **Materiais**:\n",
        "   - Calcule a quantidade com base na área ou volume total, usando consumo médio por m² ou m³, conforme aplicável.\n",
        "   - Multiplique pela unidade de preço para obter o custo.\n",
        "\n",
        "4. **Mão de obra**:\n",
        "   - Use um tempo padrão por m² ou m³ e multiplique pela área ou volume.\n",
        "   - Multiplique o tempo total pela taxa horária para obter o custo.\n",
        "\n",
        "Apresente os resultados assim:\n",
        "\n",
        "Materiais:\n",
        "- Bloco de concreto: 260 unidades x R$ 1,20 = R$ 312,00\n",
        "\n",
        "Mão de Obra:\n",
        "- Pedreiro: 80 horas x R$ 25,00 = R$ 2.000,00\n",
        "\n",
        "Custo Total Estimado da Obra: R$ 2.312,00\n",
        "\n",
        "        \"\"\",\n",
        "        description=\"Agente que calcula e formata orçamentos de obras.\"\n",
        "    )\n",
        "\n",
        "    entrada_do_agente_redator = f\"\"\"\n",
        "Tipo de Obra: {tipo_obra}\n",
        "Área: {area_m2} m²\n",
        "Plano de Orçamento: {json.dumps(plano_orcamento, ensure_ascii=False)}\n",
        "Resultados da Busca de Preços dos Materiais: {json.dumps(resultados_busca_preco, ensure_ascii=False)}\n",
        "Resultados da Busca de Taxas de Mão de Obra: {json.dumps(resultados_busca_mao_de_obra, ensure_ascii=False)}\n",
        "\"\"\"\n",
        "    orcamento = call_agent(redator, entrada_do_agente_redator)\n",
        "    return orcamento"
      ],
      "metadata": {
        "id": "usqMLbrp6fpf"
      },
      "execution_count": 14,
      "outputs": []
    },
    {
      "cell_type": "code",
      "source": [
        "tipo_obra_exemplo = \"parede de alvenaria 15x30x20\"\n",
        "area_exemplo = 20\n",
        "local_exemplo = \"Salvador, Bahia\"\n",
        "\n",
        "plano = agente_planejador_orcamento(tipo_obra_exemplo, area_exemplo, local_exemplo)\n",
        "print(\"Plano de Orçamento:\", plano)\n",
        "\n",
        "# Aqui o Agente Buscador seria chamado para cada item no plano\n",
        "# Exemplo simplificado dos resultados da busca (isso viria do agente_buscador_obra):\n",
        "resultados_preco = {\n",
        "    \"tijolo cerâmico 15x30x20\": \"R$ 0.80/unidade\",\n",
        "    \"cimento\": \"R$ 30.00/saco de 50kg\",\n",
        "    \"areia\": \"R$ 80.00/m³\",\n",
        "    \"cal hidratada\": \"R$ 15.00/saco de 20kg\"\n",
        "}\n",
        "resultados_mao_de_obra = {\n",
        "    \"pedreiro\": \"R$ 35.00/hora\",\n",
        "    \"ajudante\": \"R$ 20.00/hora\"\n",
        "}\n",
        "\n",
        "orcamento_final = agente_redator_orcamento(tipo_obra_exemplo, area_exemplo, plano, resultados_preco, resultados_mao_de_obra)\n",
        "print(\"\\nOrçamento Final:\\n\", orcamento_final)"
      ],
      "metadata": {
        "colab": {
          "base_uri": "https://localhost:8080/"
        },
        "collapsed": true,
        "id": "KnjY-pDfNgm_",
        "outputId": "94a036ef-757c-40c4-dd9d-606a194535fb"
      },
      "execution_count": 15,
      "outputs": [
        {
          "output_type": "stream",
          "name": "stdout",
          "text": [
            "Plano de Orçamento: {'materiais': [{'item': 'tijolo cerâmico 15x30x20', 'consulta_preco': 'preço tijolo cerâmico 15x30x20 Salvador Bahia'}, {'item': 'cimento', 'consulta_preco': 'preço saco de cimento Salvador Bahia'}, {'item': 'areia', 'consulta_preco': 'preço metro cúbico areia Salvador Bahia'}, {'item': 'cal hidratada', 'consulta_preco': 'preço saco de cal hidratada Salvador Bahia'}, {'item': 'água', 'consulta_preco': 'preço metro cúbico água Salvador Bahia'}, {'item': 'tábua de madeira para caixaria', 'consulta_preco': 'preço tábua de madeira para caixaria Salvador Bahia'}, {'item': 'pregos', 'consulta_preco': 'preço pregos para construção Salvador Bahia'}, {'item': 'arame recozido', 'consulta_preco': 'preço arame recozido Salvador Bahia'}], 'mao_de_obra': [{'funcao': 'pedreiro', 'consulta_preco': 'quanto custa hora de pedreiro em Salvador Bahia'}, {'funcao': 'servente', 'consulta_preco': 'quanto custa hora de servente em Salvador Bahia'}]}\n",
            "\n",
            "Orçamento Final:\n",
            " Com base nos dados fornecidos, segue o orçamento detalhado para a construção da parede de alvenaria de 20 m²:\n",
            "\n",
            "**Materiais:**\n",
            "\n",
            "*   **Tijolo cerâmico 15x30x20:** 20 unidades/m² x 20 m² = 400 unidades\n",
            "    *   400 unidades x R$ 0,80/unidade = R$ 320,00\n",
            "*   **Cimento:** Estimativa de 6 sacos de 50kg para 20 m² de parede\n",
            "    *   6 sacos x R$ 30,00/saco = R$ 180,00\n",
            "*   **Areia:** Estimativa de 1 m³ para 20 m² de parede\n",
            "    *   1 m³ x R$ 80,00/m³ = R$ 80,00\n",
            "*   **Cal hidratada:** Estimativa de 2 sacos para 20 m² de parede\n",
            "    *   2 sacos x R$ 15,00/saco = R$ 30,00\n",
            "\n",
            "**Subtotal Materiais:** R$ 610,00\n",
            "\n",
            "**Mão de Obra:**\n",
            "\n",
            "*   **Pedreiro:** Estimativa de 2 horas/m² x 20 m² = 40 horas\n",
            "    *   40 horas x R$ 35,00/hora = R$ 1.400,00\n",
            "*   **Servente/Ajudante:** Estimativa de 1.5 horas/m² x 20 m² = 30 horas\n",
            "    *   30 horas x R$ 20,00/hora = R$ 600,00\n",
            "\n",
            "**Subtotal Mão de Obra:** R$ 2.000,00\n",
            "\n",
            "**Custo Total Estimado da Obra:**\n",
            "\n",
            "*   Materiais: R$ 610,00\n",
            "*   Mão de Obra: R$ 2.000,00\n",
            "*   **Total:** R$ 2.610,00\n",
            "\n",
            "**Observações:**\n",
            "\n",
            "*   Os valores de \"água\", \"tábua de madeira para caixaria\", \"pregos\" e \"arame recozido\" não foram inclusos por falta de dados de consumo e preço. Recomenda-se adicionar esses itens ao orçamento com base em estimativas de consumo para uma parede de 20 m².\n",
            "*   Os tempos de execução da mão de obra são estimativas e podem variar dependendo da complexidade do projeto e da experiência da equipe.\n",
            "*   Este orçamento é uma estimativa e está sujeito a variações de preço dos materiais e da mão de obra.\n",
            "*   Recomenda-se solicitar orçamentos de diferentes fornecedores e profissionais para obter os melhores preços.\n",
            "\n"
          ]
        }
      ]
    },
    {
      "cell_type": "code",
      "source": [
        "import json\n",
        "\n",
        "###################################################\n",
        "# -------- Agente 4: Revisor de Orçamentos ------- #\n",
        "###################################################\n",
        "\n",
        "def agente_revisor_orcamento(tipo_obra, area_m2, orcamento_gerado, resultados_busca_preco={}, resultados_busca_mao_de_obra={}):\n",
        "    revisor = Agent(\n",
        "        name=\"agente_revisor_orcamento\",\n",
        "        model=\"gemini-2.0-flash\",\n",
        "        instruction=f\"\"\"\n",
        "Você é um revisor de orçamentos para obras de construção civil.\n",
        "\n",
        "Sua tarefa é verificar se o orçamento gerado para o tipo de obra ({tipo_obra}) com área de {area_m2} m² está coerente e bem calculado.\n",
        "\n",
        "Regras principais que devem ser seguidas:\n",
        "- Tijolos/blocos: calcular 20 unidades por metro quadrado de parede.\n",
        "- Materiais em volume (areia, brita, concreto, etc.): usar fórmula comprimento x altura x largura ÷ 1000.\n",
        "- Custos: quantidade × preço unitário.\n",
        "- Mão de obra: tempo estimado × taxa horária.\n",
        "\n",
        "Verifique os seguintes pontos:\n",
        "1. Cálculo correto das quantidades com base nas regras acima.\n",
        "2. Coerência dos preços unitários e das taxas horárias para a região (se disponível).\n",
        "3. Clareza e organização da apresentação do orçamento.\n",
        "4. Consistência entre valores totais e subtotais.\n",
        "\n",
        "Se o orçamento estiver correto, responda:\n",
        "\"O orçamento está revisado e pronto para ser apresentado ao pedreiro.\"\n",
        "\n",
        "Se houver problemas, aponte com clareza o que deve ser corrigido.\n",
        "\n",
        "---\n",
        "\n",
        "📦 **Dados para revisão:**\n",
        "\n",
        "Orçamento Gerado:\n",
        "{json.dumps(orcamento_gerado, indent=2, ensure_ascii=False)}\n",
        "\n",
        "Resultados da Busca de Preços dos Materiais:\n",
        "{json.dumps(resultados_busca_preco, indent=2, ensure_ascii=False)}\n",
        "\n",
        "Resultados da Busca de Taxas de Mão de Obra:\n",
        "{json.dumps(resultados_busca_mao_de_obra, indent=2, ensure_ascii=False)}\n",
        "        \"\"\",\n",
        "        description=\"Agente revisor de orçamentos de obras.\"\n",
        "    )\n",
        "\n",
        "    entrada_do_agente_revisor = f\"\"\"\n",
        "Tipo de Obra: {tipo_obra}\n",
        "Área: {area_m2} m²\n",
        "\"\"\"\n",
        "    # Executa o agente\n",
        "    revisao_orcamento = call_agent(revisor, entrada_do_agente_revisor)\n",
        "    return revisao_orcamento"
      ],
      "metadata": {
        "id": "85LcK95gVZfG"
      },
      "execution_count": 16,
      "outputs": []
    },
    {
      "cell_type": "code",
      "source": [
        "from datetime import date\n",
        "from IPython.display import display, Markdown as md\n",
        "\n",
        "data_de_hoje = date.today().strftime(\"%d/%m/%Y\")\n",
        "\n",
        "print(\"🛠️ Iniciando o Sistema de Orçamento de Obras Obra.IA (Sem Simulação) 🛠️\")\n",
        "\n",
        "# --- Obter as informações da obra do usuário ---\n",
        "tipo_obra = input(\"❓ Por favor, digite o TIPO DE OBRA que você quer orçar: \")\n",
        "area_obra = input(\"📐 Por favor, digite a ÁREA da obra em metros quadrados (m²): \")\n",
        "localizacao_obra = input(\"📍 Opcional: Digite a LOCALIZAÇÃO da obra (cidade, estado) para refinar os preços: \")\n",
        "\n",
        "# Inserir lógica do sistema de agentes Obra.IA (Sem Simulação) ##########################\n",
        "if not tipo_obra or not area_obra:\n",
        "    print('Você esqueceu de digitar o tipo da obra e/ou a área!')\n",
        "else:\n",
        "    print(f'\\n🛠️ Orçamento para {area_obra} m² de {tipo_obra} em andamento...')\n",
        "\n",
        "    # Agente 2: Planejador de Orçamento (agora gerando consultas de busca)\n",
        "    plano_orcamento = agente_planejador_orcamento(tipo_obra, area_obra, localizacao_obra)\n",
        "    print('\\n--- Resultado do Agente 2 (Planejador de Orçamento) ---\\n')\n",
        "    display(md(str(plano_orcamento))) # Exibindo o plano (que agora inclui consultas)\n",
        "    print('--------------------------------------------------------------')\n",
        "\n",
        "    resultados_preco = {}\n",
        "    resultados_mao_de_obra = {}\n",
        "\n",
        "    # Agente 1: Buscador (usando as consultas do Planejador)\n",
        "    if plano_orcamento and 'materiais' in plano_orcamento:\n",
        "        print(\"\\n🔍 Buscando preços dos materiais...\")\n",
        "        for material_info in plano_orcamento['materiais']:\n",
        "            item = material_info.get('item')\n",
        "            consulta_preco = material_info.get('consulta_preco')\n",
        "            if item and consulta_preco:\n",
        "                resultado_busca = agente_buscador_obra(consulta_preco)\n",
        "                resultados_preco[item] = resultado_busca\n",
        "                print(f\"  - Preço de {item}: {resultado_busca[:50]}...\") # Exibe um trecho do resultado\n",
        "\n",
        "    if plano_orcamento and 'mao_de_obra' in plano_orcamento:\n",
        "        print(\"\\n🔍 Buscando taxas de mão de obra...\")\n",
        "        for mao_de_obra_info in plano_orcamento['mao_de_obra']:\n",
        "            funcao = mao_de_obra_info.get('funcao')\n",
        "            consulta_preco = mao_de_obra_info.get('consulta_preco')\n",
        "            if funcao and consulta_preco:\n",
        "                resultado_busca = agente_buscador_obra(consulta_preco)\n",
        "                resultados_mao_de_obra[funcao] = resultado_busca\n",
        "                print(f\"  - Taxa de {funcao}: {resultado_busca[:50]}...\") # Exibe um trecho do resultado\n",
        "\n",
        "    print('\\n--- Resultados da Busca (Agente 1) ---\\n')\n",
        "    print(\"Preços dos Materiais:\", resultados_preco)\n",
        "    print(\"Taxas de Mão de Obra:\", resultados_mao_de_obra)\n",
        "    print('--------------------------------------------------------------')\n",
        "\n",
        "    # Agente 3: Redator de Orçamento (usando os resultados reais da busca)\n",
        "    orcamento_final = agente_redator_orcamento(\n",
        "        tipo_obra,\n",
        "        area_obra,\n",
        "        plano_orcamento,\n",
        "        resultados_preco,\n",
        "        resultados_mao_de_obra\n",
        "    )\n",
        "    print('\\n--- Resultado do Agente 3 (Redator de Orçamento) ---\\n')\n",
        "    display(md(orcamento_final))\n",
        "    print('--------------------------------------------------------------')\n",
        "\n",
        "    # Agente 4: Revisor de Orçamento (usando os resultados reais da busca e o orçamento)\n",
        "    revisao_orcamento = agente_revisor_orcamento(\n",
        "        tipo_obra,\n",
        "        area_obra,\n",
        "        orcamento_final,\n",
        "        resultados_preco,\n",
        "        resultados_mao_de_obra\n",
        "    )\n",
        "    print('\\n--- Resultado do Agente 4 (Revisor de Orçamento) ---\\n')\n",
        "    display(md(revisao_orcamento))\n",
        "    print('--------------------------------------------------------------')\n",
        "\n",
        "print(\"\\n✨ Processo de Orçamento da Obra.IA Concluído! ✨\")"
      ],
      "metadata": {
        "colab": {
          "base_uri": "https://localhost:8080/",
          "height": 1000
        },
        "id": "HKMYzLteeNJw",
        "outputId": "b87ae034-42c5-4428-f266-2b9376cf5486"
      },
      "execution_count": 17,
      "outputs": [
        {
          "output_type": "stream",
          "name": "stdout",
          "text": [
            "🛠️ Iniciando o Sistema de Orçamento de Obras Obra.IA (Sem Simulação) 🛠️\n",
            "❓ Por favor, digite o TIPO DE OBRA que você quer orçar: construir uma parede\n",
            "📐 Por favor, digite a ÁREA da obra em metros quadrados (m²): 50\n",
            "📍 Opcional: Digite a LOCALIZAÇÃO da obra (cidade, estado) para refinar os preços: salvador\n",
            "\n",
            "🛠️ Orçamento para 50 m² de construir uma parede em andamento...\n",
            "\n",
            "--- Resultado do Agente 2 (Planejador de Orçamento) ---\n",
            "\n"
          ]
        },
        {
          "output_type": "display_data",
          "data": {
            "text/plain": [
              "<IPython.core.display.Markdown object>"
            ],
            "text/markdown": "{'materiais': [{'item': 'tijolo cerâmico', 'consulta_preco': 'preço tijolo cerâmico Salvador'}, {'item': 'cimento', 'consulta_preco': 'preço saco de cimento Salvador'}, {'item': 'areia', 'consulta_preco': 'preço metro cúbico areia Salvador'}, {'item': 'cal hidratada', 'consulta_preco': 'preço saco de cal hidratada Salvador'}, {'item': 'água', 'consulta_preco': 'preço metro cúbico água Salvador'}, {'item': 'vergalhão (para amarração)', 'consulta_preco': 'preço vergalhão Salvador'}, {'item': 'arame recozido', 'consulta_preco': 'preço arame recozido Salvador'}, {'item': 'ripas de madeira (para caixaria)', 'consulta_preco': 'preço ripa de madeira para caixaria Salvador'}, {'item': 'pregos', 'consulta_preco': 'preço prego para construção Salvador'}], 'mao_de_obra': [{'funcao': 'pedreiro', 'consulta_preco': 'quanto custa hora de pedreiro em Salvador'}, {'funcao': 'servente', 'consulta_preco': 'quanto custa hora de servente em Salvador'}]}"
          },
          "metadata": {}
        },
        {
          "output_type": "stream",
          "name": "stdout",
          "text": [
            "--------------------------------------------------------------\n",
            "\n",
            "🔍 Buscando preços dos materiais...\n",
            "  - Preço de tijolo cerâmico: Em Salvador, o preço do tijolo cerâmico pode varia...\n",
            "  - Preço de cimento: Em Salvador, o preço do saco de cimento de 50kg po...\n",
            "  - Preço de areia: O preço médio do metro cúbico da areia em maio de ...\n",
            "  - Preço de cal hidratada: Em Salvador, o preço do saco de cal hidratada de 2...\n",
            "  - Preço de água: Em Salvador, o preço do metro cúbico da água varia...\n",
            "  - Preço de vergalhão (para amarração): O preço do vergalhão em Salvador pode variar depen...\n",
            "  - Preço de arame recozido: O arame recozido é utilizado na construção civil p...\n",
            "  - Preço de ripas de madeira (para caixaria): Em Salvador, o preço da ripa de madeira para caixa...\n",
            "  - Preço de pregos: Em Salvador, o preço do prego para construção pode...\n",
            "\n",
            "🔍 Buscando taxas de mão de obra...\n",
            "  - Taxa de pedreiro: Em Salvador, o custo da hora de um pedreiro pode v...\n",
            "  - Taxa de servente: Em Salvador, o custo da hora de um servente de obr...\n",
            "\n",
            "--- Resultados da Busca (Agente 1) ---\n",
            "\n",
            "Preços dos Materiais: {'tijolo cerâmico': 'Em Salvador, o preço do tijolo cerâmico pode variar dependendo do tipo, tamanho e local de compra. Aqui estão alguns preços e locais onde você pode encontrar tijolos cerâmicos em Salvador:\\n\\n*   **OLX Salvador:**\\n    *   Blocos de cerâmica 09X19X24: R$ 1.050.\\n    *   Bloco cerâmico (milheiro): R$ 1.060 à vista em São Cristóvão.\\n*   **Degraus Materiais de Construção:**\\n    *   Tijolo cerâmico 14x19x29: R$ 1,78 (R$ 1,60 à vista com 10% de desconto no Pix).\\n    *   Tijolo cerâmico 9x19x29: R$ 1,25 (R$ 1,13 à vista com 10% de desconto no Pix).\\n*   **O Ponto das Telhas:**\\n    *   Bloco cerâmico 24 x 19 x 09: R$ 1,25.\\n*   **Copafer:**\\n    *   Bloco cerâmico baiano 11,5x14x24cm - SAFIRA: R$ 1,22 à vista.\\n*   **Ferreira Costa:**\\n    *   Tijolo de vedação bloco cerâmico 8 furos 9x19x19cm: R$ 1,50.\\n\\nAlém disso, outros tipos de tijolos e blocos estão disponíveis, como os blocos de concreto prensado, que podem ser encontrados por R$ 2,80 a unidade.\\n\\nÉ importante lembrar que os preços podem variar e é sempre recomendável pesquisar em diferentes fornecedores para encontrar a melhor oferta.\\n\\n', 'cimento': 'Em Salvador, o preço do saco de cimento de 50kg pode variar dependendo da marca e do estabelecimento. Aqui estão alguns preços encontrados em diferentes lojas:\\n\\n*   **O Fazendão:**\\n    *   Cimento CP-II F-32 Uso Geral 50KG - Zebu: R$42,00 à vista ou R$47,00 no cartão.\\n    *   Cimento Poty CP-II 50KG - Votorantim: R$44,00 à vista ou R$49,00 no cartão.\\n\\n*   **OLX:**\\n    *   Cimento Montes Claros 50kg: R$37,00.\\n    *   Saco de Cimento Zebu 50kg: R$32,00.\\n\\n*   **Irmãos Queiroz:**\\n    *   Cimento CP II-F 32 Zebu Uso Geral 50kg: R$39,99 (produto vendido somente na loja física).\\n\\nOutras opções de marcas e tipos de cimento também podem ser encontradas em lojas como a Leroy Merlin e a Casa da Construção. Os preços podem variar e é sempre bom pesquisar em diferentes estabelecimentos para encontrar a melhor oferta.\\n\\n', 'areia': 'O preço médio do metro cúbico da areia em maio de 2025 é de R$ 127,81. Esse valor é uma média calculada com base em cotações no Portal AECweb e no Construcompras.\\n\\nVocê pode encontrar areia ensacada (20kg) em Salvador a partir de R$ 5,50 na loja Outlet Center Líder.\\n\\nHá diversos tipos de areia para construção, variando conforme a granulometria:\\n\\n*   **Areia fina:** Usada para reboco e acabamento interno.\\n*   **Areia média:** Empregada em alvenaria, chapisco e concreto.\\n*   **Areia grossa:** Utilizada em contrapiso e concretos em geral.\\n\\nEm anúncios online, como no OLX, o metro de areia lavada é encontrado a partir de R$ 144,99.\\n\\n', 'cal hidratada': 'Em Salvador, o preço do saco de cal hidratada de 20kg pode variar dependendo da loja e da marca. Aqui estão algumas opções e preços encontrados:\\n\\n*   **Leroy Merlin:** Cal Hidratada para Construção Civil 20Kg Votoran por um preço válido para 17/05/2025.\\n*   **Canal Condomínios:** Cal Hidratada Para Reboco 20kg Itau Votoran por R$ 27,27 no PIX (com 2% de desconto) ou R$ 27,83 em outras formas de pagamento.\\n*   **Construcasa Bordignon:** Cal Hidratada CH-III 20Kg Morro Branco (preço sob consulta).\\n*   **Outlet Center Líder (Lauro de Freitas, BA):** Cal Hidratado Damasceno 20kg (melhores preços, entrega em alguns bairros de Salvador).\\n*   **Mercado Livre:** Cal Hidratada 20 Kg (variedade de ofertas).\\n\\nAlém disso, você pode encontrar cal hidratada em outros locais como a MegaÓ da Ferreira Costa e a Douradinho Materiais para Construção, que oferece Cal Hidratada 20kg Votorantim.\\n\\nA cal hidratada é utilizada na construção civil para diversas finalidades, como:\\n\\n*   **Argamassas de assentamento e revestimento:** Proporciona maior plasticidade, aderência e durabilidade.\\n*   **Reboco:** Regulariza superfícies e proporciona maior resistência mecânica.\\n*   **Redução de fissuras e rachaduras:** Permite a dilatação natural da alvenaria.\\n*   **Combate à proliferação de mofo e bolor.**\\n', 'água': 'Em Salvador, o preço do metro cúbico da água varia de acordo com a categoria de consumo (residencial, comercial, industrial) e a faixa de consumo mensal. A Embasa (Empresa Baiana de Águas e Saneamento) adota um modelo de cobrança progressivo, no qual o valor do metro cúbico aumenta conforme o consumo.\\n\\n**Valores e informações importantes:**\\n\\n*   **Reajuste recente:** A tarifa de água e esgoto da Embasa teve um reajuste de 5,8% a partir de 1º de agosto de 2024. Esse reajuste não se aplica à Tarifa Social, destinada a famílias inscritas no programa Bolsa Família.\\n*   **Tarifa mínima residencial:** Para imóveis residenciais que consomem até 6 mil litros (6 m³) de água por mês, o valor da água passou de R$ 38,92 para R$ 41,18.\\n*   **Tarifa Social:** Para o mesmo consumo mínimo (até 6 m³), a tarifa residencial social permanece em R$ 14,97 por mês.\\n*   **Estrutura progressiva:** A Embasa utiliza uma estrutura de cobrança progressiva, com faixas de consumo e valores diferenciados para cada metro cúbico. Quanto maior o consumo, maior o valor pago por metro cúbico.\\n*   **Tarifa mínima e consumo excedente:** A tarifa de água compreende um valor mínimo fixo (tarifa mínima) equivalente a 6 metros cúbicos, e outro relativo ao consumo excedente.\\n*   **Esgoto:** O valor da tarifa de esgoto é calculado como um percentual sobre a tarifa de água, variando de acordo com a forma de manutenção da rede coletora.\\n\\n**Onde encontrar mais detalhes:**\\n\\n*   Para informações detalhadas sobre as tarifas praticadas pela Embasa, você pode consultar o site da empresa.\\n*   A Agência Reguladora de Saneamento Básico do Estado da Bahia (Agersa) também pode fornecer informações sobre as tarifas e regulamentos.\\n', 'vergalhão (para amarração)': 'O preço do vergalhão em Salvador pode variar dependendo do tipo, tamanho e fornecedor. Aqui estão algumas opções e informações relevantes encontradas:\\n\\n*   **Vergalhão de Aço CA50 10mm (3/8) com 12 metros:** R$ 41,00.\\n*   **Vergalhão 5/16 Gerdau CA50 5/16 8MM com 12 metros:** R$ 39,50 (preço promocional) na Outlet Center Líder, localizada em Lauro de Freitas, BA.\\n*   A Expert Ferro e Aço é um distribuidor e fornecedor de vergalhão CA25, CA50 e CA60 em barras ou rolos, atendendo Salvador e região.\\n*   A Bahia Ferro, com unidades em Salvador e Lauro de Freitas, oferece uma ampla linha de produtos para construção, incluindo vergalhões.\\n\\nÉ importante notar que os preços podem variar e é recomendável entrar em contato com os fornecedores para obter orçamentos atualizados. Além disso, a disponibilidade dos produtos pode variar.\\n', 'arame recozido': 'O arame recozido é utilizado na construção civil para fixar armaduras de concreto armado, amarrações de vergalhões, fixação de telas e malhas de concreto. Ele é feito de aço de baixo teor de carbono, o que garante flexibilidade e resistência.\\n\\n**Características e vantagens do arame recozido:**\\n\\n*   Alta maleabilidade, facilitando a torção e as amarrações.\\n*   Resistência à corrosão.\\n*   Disponível em diferentes bitolas.\\n\\n**Preços e onde encontrar em Salvador:**\\n\\n*   **Hiperferro:** Arame Recozido 18 (1.25mm) R$14,97 (rolo de 1kg). Arame Recozido 18 (1.25mm) R$13,02 (rolo de 35kg).\\n*   **Magazine Luiza:** Diversas opções de arame recozido a partir de R$13,00 (rolo de 1kg).\\n*   **Lojas Solar:** Arame Recozido Liso BWG Nº 18 1,25mm (rolo de 1kg) por R$ 26,42 no Pix.\\n*   **Loja do Aço:** Arame Recozido 1,24mm (rolo de 0,5kg) por R$9,63. Arame Recozido 1,24mm (rolo de 1kg) por R$17,88.\\n*   **Palácio da Ferramenta:** Arame Recozido 1.24mm N.18 (rolo de 1kg) por R$ 19,90.\\n\\n**Outras opções:**\\n\\n*   **Arame recozido torcido:** Mais fácil de trabalhar, já vem torcido para otimizar a amarração.\\n*   **ArcelorMittal:**  Arame Recozido Prático 1,15mm - 0,5kg.\\n\\n', 'ripas de madeira (para caixaria)': 'Em Salvador, o preço da ripa de madeira para caixaria pode variar dependendo do tipo de madeira, dimensões e local de compra. Aqui estão algumas opções e preços encontrados:\\n\\n*   **Ripa de Cambará:** Na Risso Madeiras, você pode encontrar ripas de cambará brutas (1,5X5) por R$ 4,66 e aparelhadas (1,5X5) por R$ 5,59.\\n*   **Ripa de Eucalipto:** Na Santos Madeiras, a ripa de eucalipto (2 x 7 x 400 cm) está disponível por R$15,32 (com 23% de desconto). O metro linear da ripa de eucalipto (2 x 4,5 cm) é vendido a R$1 kg.\\n*   **Ripa de Massaranduba:** No OLX, ripas de massaranduba são anunciadas por R$4 em Fortaleza.\\n*   **Ripa de Pinus:** No Mercado Livre, um kit com 15 ripas de madeira pinus (2x1x100 cm) é vendido por R$28. Na Madeiras Girardi, o sarrafo de pinus para caixaria tem o valor de R$5,00/m³.\\n\\nOutras opções incluem ripa de Angelim Extra (5,5x3cm) por R$11,90/ml e ripa de Paraju Extra (4,5 x 2 cm) Aparelhado por R$ 7,08 /ml na Macal Madeiras.\\n\\nVocê pode encontrar fornecedores de ripa de madeira 5x2 em Salvador na Madervillas Madeireira. A C&S Construção vende sarrafo de cedrinho natural bruto (10cm x 3m).\\n', 'pregos': 'Em Salvador, o preço do prego para construção pode variar dependendo do tipo, tamanho e quantidade. Aqui estão alguns exemplos de preços encontrados:\\n\\n*   **Prego Gerdau 18x27 com cabeça (1kg):** R$ 15,00\\n*   **Prego com Cabeça 2.1/2 x 10 (63.50x3.40mm) (kg):** R$15,25\\n*   **Prego com Cabeça 5 x 5 (127.00x5.59mm) (kg):** R$15,25\\n*   **Prego com Cabeça 2 x 12 (50.80x2.77mm) (kg):** R$16,78\\n*   **Prego com Cabeça 1.1/4 x 14 (31.75x2.11mm) (kg):** R$18,30\\n*   **Prego 21x45 1kg Gerdau:** R$ 14,74 (no Pix)\\n*   **Prego 25x72 1kg Gerdau:** R$ 21,96 (no Pix)\\n\\nVocê pode encontrar pregos em lojas de construção como a Bahia Ferro, Hiperferro, Lojas Solar, Nichele Materiais para Construção e Obramax. Além disso, também é possível encontrar pregos em plataformas online como OLX, Magazine Luiza e Shopee.\\n\\nOs pregos com cabeça são os mais comuns e são utilizados em diversos tipos de fixação, como construções pesadas, estruturas, marcenaria e caixotaria.\\n'}\n",
            "Taxas de Mão de Obra: {'pedreiro': 'Em Salvador, o custo da hora de um pedreiro pode variar. Aqui estão algumas estimativas e fatores que influenciam o preço:\\n\\n*   **Média Salarial:** Em 14 de maio de 2025, um pedreiro em Salvador ganhava em média R$ 2.077 por mês, o que corresponde a R$ 12,36 por hora.\\n*   **Variação Salarial:** A faixa salarial pode variar entre R$ 2.259,94 (piso salarial de 2025) e R$ 2.946,96, dependendo do nível de experiência e acordos coletivos.\\n*   **Valores por Diária:** O valor da diária de um pedreiro em Salvador pode variar entre R$ 150,00 e R$ 400,00, com uma média de R$ 267,50.\\n*   **GetNinjas:** O custo médio para contratar um pedreiro através da plataforma GetNinjas em Salvador foi de R$ 553 no primeiro trimestre de 2024.\\n*   **Instituto da Construção:** O Instituto da Construção aponta que a cobrança por hora de trabalho de um pedreiro em Salvador fica em torno de R$ 45,00.\\n*   **Fatores que Influenciam o Preço:**\\n\\n    *   Experiência e qualificação do profissional.\\n    *   Localização.\\n    *   Tipo de serviço a ser realizado.\\n    *   Prazo de execução do serviço.\\n    *   Custos de vida na região.\\n*   **Outros Preços:**\\n    *   Segundo o Blog Pointer Revestimentos Cerâmicos, o servente/auxiliar de pedreiro tem um custo de R$ 22,53/hora.\\n\\nÉ importante lembrar que esses valores são médias e podem variar dependendo das negociações entre o profissional e o cliente.\\n', 'servente': 'Em Salvador, o custo da hora de um servente de obras pode variar. Aqui estão algumas estimativas salariais e informações relevantes:\\n\\n*   **Salário médio:** Um servente de obras em Salvador ganha, em média, R$ 1.515,45 por mês para uma jornada de 44 horas semanais. Isso equivale a aproximadamente R$ 6,89 por hora.\\n*   **Faixa salarial:** A faixa salarial para serventes de obras em Salvador varia entre R$ 1.474,06 (piso salarial de 2025) e R$ 1.965,09 (teto salarial).\\n*   **Piso salarial (2024):** Em 2024, o piso salarial para servente comum é de R$ 1.442,98 por mês.\\n*   **Piso salarial (2025):** A partir de março de 2025, o piso salarial para servente prático é de R$ 1.616,22 e para servente comum é de R$ 1.548,98.\\n\\nÉ importante notar que esses valores podem ser influenciados por acordos coletivos, experiência do profissional e tipo de obra.\\n'}\n",
            "--------------------------------------------------------------\n",
            "\n",
            "--- Resultado do Agente 3 (Redator de Orçamento) ---\n",
            "\n"
          ]
        },
        {
          "output_type": "display_data",
          "data": {
            "text/plain": [
              "<IPython.core.display.Markdown object>"
            ],
            "text/markdown": "## Orçamento Detalhado para Construção de Parede (50 m²)\n\nCom base nas informações fornecidas e nos preços de mercado em Salvador, apresento o seguinte orçamento detalhado para a construção de uma parede com área de 50 m²:\n\n### Materiais:\n\n*   **Tijolo Cerâmico:** 1000 unidades x R$ 1,25 = R$ 1.250,00 (Considerando 20 tijolos por m² e preço médio do tijolo cerâmico)\n*   **Cimento:** 15 sacos x R$ 42,00 = R$ 630,00 (Estimativa de consumo de 0,3 saco por metro quadrado)\n*   **Areia:** 5 m³ x R$ 127,81 = R$ 639,05 (Estimativa de consumo de 0,1 m³ por metro quadrado)\n*   **Cal Hidratada:** 3 sacos x R$ 27,27 = R$ 81,81 (Estimativa de consumo de 0,06 saco por metro quadrado)\n*   **Água:** 2 m³ x R$ 41,18 = R$ 82,36 (Estimativa de consumo de 0,04 m³ por metro quadrado)\n*   **Vergalhão (para amarração):** 2 barras x R$ 41,00 = R$ 82,00 (Estimativa para amarração a cada 25m²)\n*   **Arame Recozido:** 2 kg x R$ 14,97 = R$ 29,94 (Estimativa de consumo de 0,04 kg por metro quadrado)\n*   **Ripas de Madeira (para caixaria):** 30 metros x R$ 4,66 = R$ 139,80 (Estimativa com base na área da parede)\n*   **Pregos:** 1 kg x R$ 15,00 = R$ 15,00 (Estimativa com base no uso geral na caixaria e fixação)\n\n### Mão de Obra:\n\n*   **Pedreiro:** 100 horas x R$ 45,00 = R$ 4.500,00 (Estimativa de 2 horas por metro quadrado)\n*   **Servente:** 100 horas x R$ 22,53 = R$ 2.253,00 (Estimativa de 2 horas por metro quadrado)\n\n### Custo Total Estimado da Obra:\n\nR$ 9.702,96\n\n**Observações:**\n\n*   Os preços dos materiais são baseados nos valores de mercado em Salvador, conforme pesquisa realizada em 14 de maio de 2025.\n*   Os custos de mão de obra são estimativas e podem variar dependendo da experiência do profissional e das condições do local da obra.\n*   Este orçamento não inclui custos adicionais, como transporte de materiais, impostos ou taxas de licenças.\n*   Recomenda-se solicitar orçamentos detalhados de fornecedores e profissionais para obter um custo mais preciso da obra.\n*   As taxas de consumo de materiais e mão de obra podem variar de acordo com a técnica utilizada e as características do projeto.\n"
          },
          "metadata": {}
        },
        {
          "output_type": "stream",
          "name": "stdout",
          "text": [
            "--------------------------------------------------------------\n",
            "\n",
            "--- Resultado do Agente 4 (Revisor de Orçamento) ---\n",
            "\n"
          ]
        },
        {
          "output_type": "display_data",
          "data": {
            "text/plain": [
              "<IPython.core.display.Markdown object>"
            ],
            "text/markdown": "O orçamento está revisado, mas precisa das seguintes correções:\n\n1.  **Tijolo Cerâmico:** A quantidade está correta (1000 unidades para 50 m²), e o preço unitário (R$ 1,25) está dentro da faixa de mercado em Salvador. O subtotal de R$ 1.250,00 está correto.\n2.  **Cimento:** O consumo estimado de 0,3 saco por metro quadrado parece alto. Em geral, usa-se cerca de 0,2 saco por m². Sugiro revisar esse valor. Se o valor unitário do saco de cimento está correto (R$ 42,00), o preço está bom.\n3.  **Areia:** O consumo estimado de 0,1 m³ por metro quadrado parece alto. Sugiro revisar esse valor. O preço do m³ (R$ 127,81) está de acordo com a pesquisa.\n4.  **Cal Hidratada:** O consumo de 0,06 saco por metro quadrado parece um pouco alto. Sugiro revisar esse valor. O preço do saco (R$ 27,27) está bom, de acordo com a pesquisa.\n5.  **Água:** O consumo de 0,04 m³ por metro quadrado parece razoável, e o preço do m³ (R$ 41,18) está correto.\n6.  **Vergalhão:** A estimativa de 2 barras para 50 m² parece baixa. Vergalhões são usados para dar estrutura à parede, principalmente em amarrações com a estrutura da casa. Sugiro aumentar essa quantidade e detalhar melhor o uso (a cada quantos metros de parede). O preço da barra (R$ 41,00) está coerente.\n7.  **Arame Recozido:** O consumo de 0,04 kg por metro quadrado parece razoável, e o preço do kg (R$ 14,97) está bom.\n8.  **Ripas de Madeira:** A estimativa de 30 metros parece baixa. É preciso detalhar como essa quantidade foi calculada. O preço do metro (R$ 4,66) está bom.\n9.  **Pregos:** A estimativa de 1 kg parece baixa se considerar a caixaria e outras fixações. O preço do kg (R$ 15,00) está correto.\n10. **Mão de Obra (Pedreiro e Servente):** A estimativa de 2 horas por metro quadrado para cada um parece alta. O tempo total para construir 50 m² de parede seria de 100 horas para cada um. Sugiro revisar esse tempo. A taxa horária do pedreiro (R$ 45,00) está alta, enquanto a do servente (R$ 22,53) está coerente com a pesquisa.\n\nO valor total do orçamento (R$ 9.702,96) será atualizado automaticamente após as correções nas quantidades e taxas horárias.\n\n"
          },
          "metadata": {}
        },
        {
          "output_type": "stream",
          "name": "stdout",
          "text": [
            "--------------------------------------------------------------\n",
            "\n",
            "✨ Processo de Orçamento da Obra.IA Concluído! ✨\n"
          ]
        }
      ]
    }
  ]
}